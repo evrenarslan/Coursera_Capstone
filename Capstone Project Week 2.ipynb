{
 "cells": [
  {
   "cell_type": "markdown",
   "metadata": {},
   "source": [
    "# Capstone Project - The Battle of the Neighborhoods (Week 2)\n",
    "### Applied Data Science Capstone by IBM/Coursera"
   ]
  },
  {
   "cell_type": "markdown",
   "metadata": {},
   "source": [
    "## Table of contents\n",
    "* [Introduction: Business Problem](#introduction)\n",
    "* [Data](#data)\n",
    "* [Methodology](#methodology)\n",
    "* [Analysis](#analysis)\n",
    "* [Results and Discussion](#results)\n",
    "* [Conclusion](#conclusion)"
   ]
  },
  {
   "cell_type": "markdown",
   "metadata": {},
   "source": [
    "## Introduction: Business Problem <a name=\"introduction\"></a>"
   ]
  },
  {
   "cell_type": "markdown",
   "metadata": {},
   "source": [
    "In this project we will try to find an optimal location for a restaurant. Specifically, this report will be targeted to stakeholders interested in opening an **Pizza restaurant** in **İstanbul**, Turkey.\n",
    "\n",
    "Since there are lots of restaurants in Istanbul we will try to detect **locations that are not already crowded with restaurants**. We are also particularly interested in **areas with no Pizza restaurants in vicinity**. We would also prefer locations **as close to city center as possible**, assuming that first two conditions are met.\n",
    "\n",
    "We will use our data science powers to generate a few most promissing neighborhoods based on this criteria. Advantages of each area will then be clearly expressed so that best possible final location can be chosen by stakeholders."
   ]
  },
  {
   "cell_type": "markdown",
   "metadata": {},
   "source": [
    "## Data <a name=\"data\"></a>"
   ]
  },
  {
   "cell_type": "markdown",
   "metadata": {},
   "source": [
    "Based on definition of our problem, factors that will influence our decission are:\n",
    "* number of existing restaurants in the neighborhood (any type of restaurant)\n",
    "* number of and distance to Pizza restaurants in the neighborhood, if any\n",
    "* distance of neighborhood from city center\n",
    "\n",
    "We decided to use regularly spaced grid of locations, centered around city center, to define our neighborhoods.\n",
    "\n",
    "Following data sources will be needed to extract/generate the required information:\n",
    "* number of restaurants and their type and location in every neighborhood will be obtained using **Foursquare API**\n",
    "* educational status of people living in the district. I got the education status information from https://biruni.tuik.gov.tr/medas/. I think people with a high level of education will eat at more restaurants or order takeaways.\n"
   ]
  },
  {
   "cell_type": "markdown",
   "metadata": {},
   "source": [
    "***Required Library***"
   ]
  },
  {
   "cell_type": "code",
   "execution_count": 1,
   "metadata": {},
   "outputs": [
    {
     "ename": "ModuleNotFoundError",
     "evalue": "No module named 'geopy'",
     "output_type": "error",
     "traceback": [
      "\u001b[0;31m---------------------------------------------------------------------------\u001b[0m",
      "\u001b[0;31mModuleNotFoundError\u001b[0m                       Traceback (most recent call last)",
      "\u001b[0;32m<ipython-input-1-9ab823755583>\u001b[0m in \u001b[0;36m<module>\u001b[0;34m\u001b[0m\n\u001b[1;32m      1\u001b[0m \u001b[0;32mimport\u001b[0m \u001b[0mpandas\u001b[0m \u001b[0;32mas\u001b[0m \u001b[0mpd\u001b[0m\u001b[0;34m\u001b[0m\u001b[0;34m\u001b[0m\u001b[0m\n\u001b[0;32m----> 2\u001b[0;31m \u001b[0;32mfrom\u001b[0m \u001b[0mgeopy\u001b[0m\u001b[0;34m.\u001b[0m\u001b[0mgeocoders\u001b[0m \u001b[0;32mimport\u001b[0m \u001b[0mNominatim\u001b[0m\u001b[0;34m\u001b[0m\u001b[0;34m\u001b[0m\u001b[0m\n\u001b[0m\u001b[1;32m      3\u001b[0m \u001b[0;32mimport\u001b[0m \u001b[0mfolium\u001b[0m\u001b[0;34m\u001b[0m\u001b[0;34m\u001b[0m\u001b[0m\n",
      "\u001b[0;31mModuleNotFoundError\u001b[0m: No module named 'geopy'"
     ]
    }
   ],
   "source": [
    "import pandas as pd\n",
    "from geopy.geocoders import Nominatim \n",
    "import folium"
   ]
  },
  {
   "cell_type": "markdown",
   "metadata": {},
   "source": [
    "***Coordinate and education level information of the districts of Istanbul***\n",
    "\n",
    "You can find the information here as csv in the repository."
   ]
  },
  {
   "cell_type": "code",
   "execution_count": null,
   "metadata": {},
   "outputs": [],
   "source": [
    "df_egitim=pd.read_csv(\"SecimSonuclari_EgitimDurumu.csv\")\n",
    "df_egitim_map=pd.read_csv(\"EğitimDurumuMapping.csv\")\n",
    "df_longlat=pd.read_csv(\"Ilce_Lat_long.csv\")\n",
    "df_egitim=pd.melt(df_egitim,id_vars=[\"İlçe\"],value_vars=df_egitim.columns[1:]).rename(columns={\"variable\":\"Sınıf\",\"value\":\"Kişi\"})\n",
    "df_egitim=pd.merge(df_egitim,df_egitim_map,on=\"Sınıf\")\n",
    "df_egitim=df_egitim.groupby([\"İlçe\",\"Education Status 2\"], as_index=False)[\"Kişi\"].sum()\n",
    "df_egitim=df_egitim.pivot(index=\"İlçe\",columns=\"Education Status 2\",values=\"Kişi\").reset_index()\n",
    "df_egitim.rename_axis(None, axis = 1,inplace=True)\n",
    "#Eğitimli ve eğitimsiz kitlelerin ilçelere göre oranını bulacağım.\n",
    "df_egitim[\"Trained%\"]=df_egitim[\"Trained\"]/(df_egitim[\"Trained\"]+df_egitim[\"Un-Trained\"])\n",
    "df_egitim[\"Un-Trained%\"]=df_egitim[\"Un-Trained\"]/(df_egitim[\"Trained\"]+df_egitim[\"Un-Trained\"])\n",
    "df_egitim=pd.merge(df_egitim,df_longlat,on=\"İlçe\")\n",
    "df_egitim=df_egitim.rename(columns={\"İlçe\":\"Districts\"})\n",
    "df_egitim.head()"
   ]
  },
  {
   "cell_type": "code",
   "execution_count": null,
   "metadata": {},
   "outputs": [],
   "source": [
    "# Geograpical coordinate of Istanbul\n",
    "address = 'Taksim Square,Istanbul'\n",
    "\n",
    "geolocator = Nominatim(user_agent=\"Istanbul\")\n",
    "location = geolocator.geocode(address)\n",
    "latitude_istanbul = location.latitude\n",
    "longitude_istanbul = location.longitude\n",
    "print('The geograpical coordinate of Istanbul are {}, {}.'.format(latitude_istanbul, longitude_istanbul))"
   ]
  },
  {
   "cell_type": "code",
   "execution_count": null,
   "metadata": {},
   "outputs": [],
   "source": [
    "map_istanbul = folium.Map(location=[latitude_istanbul,longitude_istanbul],zoom_start=10)\n",
    "label = address\n",
    "label = folium.Popup(label, parse_html=True)\n",
    "folium.CircleMarker(\n",
    "[latitude_istanbul,longitude_istanbul],\n",
    "radius=5,\n",
    "popup=label,\n",
    "color='blue',\n",
    "fill=True,\n",
    "fill_color='#3186cc',\n",
    "fill_opacity=0.7,\n",
    "parse_html=False).add_to(map_istanbul)\n",
    "map_istanbul"
   ]
  },
  {
   "cell_type": "code",
   "execution_count": null,
   "metadata": {},
   "outputs": [],
   "source": [
    "def replace_eng_chr(text): # Replace Turkish Char To English\n",
    "    text=text.replace(\"ğ\",\"g\")\n",
    "    text=text.replace(\"Ğ\",\"G\")\n",
    "    text=text.replace(\"ı\",\"i\")\n",
    "    text=text.replace(\"İ\",\"I\")\n",
    "    text=text.replace(\"ö\",\"o\")\n",
    "    text=text.replace(\"Ö\",\"O\")\n",
    "    text=text.replace(\"ü\",\"u\")\n",
    "    text=text.replace(\"Ü\",\"U\")\n",
    "    text=text.replace(\"ş\",\"s\")\n",
    "    text=text.replace(\"Ş\",\"S\")\n",
    "    text=text.replace(\"ç\",\"c\")\n",
    "    text=text.replace(\"Ç\",\"C\")\n",
    "    return text"
   ]
  },
  {
   "cell_type": "code",
   "execution_count": null,
   "metadata": {},
   "outputs": [],
   "source": [
    "#Map of Istanbul districts\n",
    "for lat,lng,ilce in zip(df_egitim['Latitude'],df_egitim['Longitude'],df_egitim['Districts']):\n",
    "    label = replace_eng_chr(ilce)\n",
    "    label = folium.Popup(label, parse_html=True)\n",
    "    folium.CircleMarker(\n",
    "    [float(lat),float(lng)],\n",
    "    radius=5,\n",
    "    popup=label,\n",
    "    color='blue',\n",
    "    fill=True,\n",
    "    fill_color='#3186cc',\n",
    "    fill_opacity=0.7,\n",
    "    parse_html=False).add_to(map_istanbul)\n",
    "map_istanbul"
   ]
  },
  {
   "cell_type": "code",
   "execution_count": null,
   "metadata": {},
   "outputs": [],
   "source": []
  }
 ],
 "metadata": {
  "kernelspec": {
   "display_name": "Python 3",
   "language": "python",
   "name": "python3"
  },
  "language_info": {
   "codemirror_mode": {
    "name": "ipython",
    "version": 3
   },
   "file_extension": ".py",
   "mimetype": "text/x-python",
   "name": "python",
   "nbconvert_exporter": "python",
   "pygments_lexer": "ipython3",
   "version": "3.8.5"
  }
 },
 "nbformat": 4,
 "nbformat_minor": 4
}
